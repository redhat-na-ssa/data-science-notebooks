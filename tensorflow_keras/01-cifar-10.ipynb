{
 "cells": [
  {
   "cell_type": "code",
   "execution_count": null,
   "metadata": {
    "ExecuteTime": {
     "end_time": "2021-04-24T22:47:39.460654Z",
     "start_time": "2021-04-24T22:38:30.269151Z"
    }
   },
   "outputs": [],
   "source": [
    "#import libraries\n",
    "import tensorflow as tf\n",
    "from time import perf_counter\n",
    "\n",
    "print(f'Tensorflow version: {tf.__version__}')\n",
    "print(\"Number of GPUs Available: \", len(tf.config.list_physical_devices('GPU')))\n",
    "\n",
    "#download cifar10 dataset\n",
    "cifar10 = tf.keras.datasets.cifar10\n",
    "(train_images, train_labels), (test_images, test_labels) = cifar10.load_data()\n",
    "\n",
    "train_set_count = len(train_labels)\n",
    "test_set_count = len(test_labels)\n",
    "\n",
    "#setup start time\n",
    "t1_start = perf_counter()\n",
    "\n",
    "#normalize images\n",
    "train_images = train_images / 255.0\n",
    "test_images = test_images / 255.0\n",
    "\n",
    "#create ML model using tensorflow provided ResNet50 model, note the [32, 32, 3] shape because that's the shape of cifar\n",
    "model = tf.keras.applications.ResNet50(\n",
    "    include_top=True, weights=None, input_tensor=None,\n",
    "    input_shape=(32, 32, 3), pooling=None, classes=10\n",
    ")\n",
    "\n",
    "# CIFAR 10 labels have one integer for each image (between 0 and 10)\n",
    "# We want to perform a cross entropy which requires a one hot encoded version e.g: [0.0, 0.0, 1.0, 0.0, 0.0...]\n",
    "train_labels = tf.one_hot(train_labels.reshape(-1), depth=10, axis=-1)\n",
    "\n",
    "# Do the same thing for the test labels\n",
    "test_labels = tf.one_hot(test_labels.reshape(-1), depth=10, axis=-1)\n",
    "\n",
    "#compile ML model, use non sparse version here because there is no sparse data.\n",
    "model.compile(optimizer='adam',\n",
    "              loss=tf.keras.losses.CategoricalCrossentropy(),\n",
    "              metrics=['accuracy'])\n",
    "\n",
    "#train ML model\n",
    "model.fit(train_images,  train_labels, epochs=10)\n",
    "\n",
    "#evaluate ML model on test set\n",
    "test_loss, test_acc = model.evaluate(test_images,  test_labels, verbose=2)\n",
    "\n",
    "#setup stop time\n",
    "t1_stop = perf_counter()\n",
    "total_time = t1_stop-t1_start\n",
    "\n",
    "#print results\n",
    "print('\\n')\n",
    "print(f'Training set contained {train_set_count} images')\n",
    "print(f'Testing set contained {test_set_count} images')\n",
    "print(f'Model achieved {test_acc:.2f} testing accuracy')\n",
    "print(f'Training and testing took {total_time:.2f} seconds')"
   ]
  },
  {
   "cell_type": "code",
   "execution_count": null,
   "metadata": {
    "ExecuteTime": {
     "end_time": "2021-04-24T22:47:39.464452Z",
     "start_time": "2021-04-24T22:47:39.462106Z"
    }
   },
   "outputs": [],
   "source": [
    "#\n",
    "# Define the cifar10 labels.\n",
    "#\n",
    "labels = {0: 'airplane', 1: 'automobile', 2: 'bird', 3: 'cat', 4: 'deer', 5: 'dog' ,6: 'frog', 7: 'horse', 8: 'ship', 9: 'truck'}"
   ]
  },
  {
   "cell_type": "code",
   "execution_count": null,
   "metadata": {
    "ExecuteTime": {
     "end_time": "2021-04-24T22:47:42.343479Z",
     "start_time": "2021-04-24T22:47:39.465750Z"
    }
   },
   "outputs": [],
   "source": [
    "#\n",
    "# Run predictions on the test set again.\n",
    "#\n",
    "p = model.predict(test_images)"
   ]
  },
  {
   "cell_type": "code",
   "execution_count": null,
   "metadata": {
    "ExecuteTime": {
     "end_time": "2021-04-24T22:47:43.095117Z",
     "start_time": "2021-04-24T22:47:42.345185Z"
    }
   },
   "outputs": [],
   "source": [
    "#\n",
    "# Plot 9 predictions\n",
    "#\n",
    "from matplotlib import pyplot\n",
    "for i in range(9):\n",
    "    title = f'{labels[int(p[i].argmax())]}'\n",
    "    pyplot.subplot(330 + 1 + i, title=title)\n",
    "    pyplot.imshow(test_images[i])\n",
    "\n",
    "pyplot.tight_layout()\n",
    "pyplot.show()"
   ]
  },
  {
   "cell_type": "code",
   "execution_count": null,
   "metadata": {},
   "outputs": [],
   "source": []
  }
 ],
 "metadata": {
  "finalized": {
   "timestamp": 1619306150306,
   "trusted": true
  },
  "kernelspec": {
   "display_name": "Python 3",
   "language": "python",
   "name": "python3"
  },
  "language_info": {
   "codemirror_mode": {
    "name": "ipython",
    "version": 3
   },
   "file_extension": ".py",
   "mimetype": "text/x-python",
   "name": "python",
   "nbconvert_exporter": "python",
   "pygments_lexer": "ipython3",
   "version": "3.6.12"
  },
  "toc": {
   "base_numbering": 1,
   "nav_menu": {},
   "number_sections": true,
   "sideBar": true,
   "skip_h1_title": false,
   "title_cell": "Table of Contents",
   "title_sidebar": "Contents",
   "toc_cell": false,
   "toc_position": {},
   "toc_section_display": true,
   "toc_window_display": false
  }
 },
 "nbformat": 4,
 "nbformat_minor": 4
}