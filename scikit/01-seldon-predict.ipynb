{
 "cells": [
  {
   "cell_type": "code",
   "execution_count": null,
   "id": "0c8294da",
   "metadata": {
    "ExecuteTime": {
     "end_time": "2021-05-01T12:20:08.073994Z",
     "start_time": "2021-05-01T12:20:08.047166Z"
    }
   },
   "outputs": [],
   "source": [
    "X=!curl -s -d '{\"data\": {\"ndarray\":[[1.0, 2.0, 5.0, 6.0]]}}' \\\n",
    "   -X POST  http://sklearn-default-classifier-ml-mon.apps.ocp.2ff8.sandbox379.opentlc.com/predict \\\n",
    "   -H \"Content-Type: application/json\"\n",
    "d=json.loads(X[0])\n",
    "print(d)"
   ]
  },
  {
   "cell_type": "code",
   "execution_count": null,
   "id": "8a5aad32",
   "metadata": {
    "ExecuteTime": {
     "end_time": "2021-05-01T12:20:08.079164Z",
     "start_time": "2021-05-01T12:20:08.075627Z"
    }
   },
   "outputs": [],
   "source": [
    "d['data']['names']"
   ]
  },
  {
   "cell_type": "code",
   "execution_count": null,
   "id": "e100bfc2",
   "metadata": {
    "ExecuteTime": {
     "end_time": "2021-05-01T12:20:08.084436Z",
     "start_time": "2021-05-01T12:20:08.081307Z"
    }
   },
   "outputs": [],
   "source": [
    "d['data']['ndarray'][0]"
   ]
  },
  {
   "cell_type": "code",
   "execution_count": null,
   "id": "083cd021",
   "metadata": {
    "ExecuteTime": {
     "end_time": "2021-05-01T12:20:08.087676Z",
     "start_time": "2021-05-01T12:20:08.085599Z"
    }
   },
   "outputs": [],
   "source": [
    "labels = ['Setosa', 'Versicolour', 'Virginica']"
   ]
  },
  {
   "cell_type": "code",
   "execution_count": null,
   "id": "d500a1aa",
   "metadata": {
    "ExecuteTime": {
     "end_time": "2021-05-01T12:20:08.092641Z",
     "start_time": "2021-05-01T12:20:08.088758Z"
    }
   },
   "outputs": [],
   "source": [
    "import numpy\n",
    "labels[numpy.array(d['data']['ndarray'][0]).argmax()]"
   ]
  },
  {
   "cell_type": "code",
   "execution_count": 1,
   "id": "f5ddccee",
   "metadata": {
    "ExecuteTime": {
     "end_time": "2021-05-01T12:28:04.702409Z",
     "start_time": "2021-05-01T12:28:04.670912Z"
    }
   },
   "outputs": [],
   "source": []
  }
 ],
 "metadata": {
  "kernelspec": {
   "display_name": "Python 3",
   "language": "python",
   "name": "python3"
  },
  "language_info": {
   "codemirror_mode": {
    "name": "ipython",
    "version": 3
   },
   "file_extension": ".py",
   "mimetype": "text/x-python",
   "name": "python",
   "nbconvert_exporter": "python",
   "pygments_lexer": "ipython3",
   "version": "3.8.3"
  },
  "toc": {
   "base_numbering": 1,
   "nav_menu": {},
   "number_sections": true,
   "sideBar": true,
   "skip_h1_title": false,
   "title_cell": "Table of Contents",
   "title_sidebar": "Contents",
   "toc_cell": false,
   "toc_position": {},
   "toc_section_display": true,
   "toc_window_display": false
  }
 },
 "nbformat": 4,
 "nbformat_minor": 5
}
