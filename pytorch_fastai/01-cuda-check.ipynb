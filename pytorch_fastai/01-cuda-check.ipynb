{
 "cells": [
  {
   "cell_type": "markdown",
   "id": "c910ac38",
   "metadata": {},
   "source": [
    "# Simple CUDA/GPU test using pytorch"
   ]
  },
  {
   "cell_type": "code",
   "execution_count": null,
   "id": "f5602f01",
   "metadata": {},
   "outputs": [],
   "source": [
    "import torch\n",
    "\n",
    "try:\n",
    "    torch.cuda.init()\n",
    "\n",
    "    print('Torch version: ' + torch.__version__)\n",
    "    print('CUDA available: ' + str(torch.cuda.is_available()))\n",
    "    print('cuDNN version: ' + str(torch.backends.cudnn.version()))\n",
    "\n",
    "    try:\n",
    "        torch.cuda.is_initialized()\n",
    "        for i in range(torch.cuda.device_count()):\n",
    "            dev_str = f'cuda:{i}'\n",
    "            print(torch.cuda.get_device_properties(dev_str))\n",
    "    except:\n",
    "        print('Can not init CUDA!')\n",
    "        assert AssertionError\n",
    "except:\n",
    "    print('CUDA is not available')"
   ]
  },
  {
   "cell_type": "code",
   "execution_count": null,
   "id": "c9a4ebc8",
   "metadata": {},
   "outputs": [],
   "source": []
  }
 ],
 "metadata": {
  "kernelspec": {
   "display_name": "Python 3",
   "language": "python",
   "name": "python3"
  },
  "language_info": {
   "codemirror_mode": {
    "name": "ipython",
    "version": 3
   },
   "file_extension": ".py",
   "mimetype": "text/x-python",
   "name": "python",
   "nbconvert_exporter": "python",
   "pygments_lexer": "ipython3",
   "version": "3.8.3"
  }
 },
 "nbformat": 4,
 "nbformat_minor": 5
}
